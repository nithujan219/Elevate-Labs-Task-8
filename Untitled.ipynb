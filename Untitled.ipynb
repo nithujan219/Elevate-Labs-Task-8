{
 "cells": [
  {
   "cell_type": "code",
   "execution_count": 1,
   "id": "5458a142",
   "metadata": {},
   "outputs": [],
   "source": [
    "import numpy as np\n",
    "import pandas as pd"
   ]
  },
  {
   "cell_type": "code",
   "execution_count": 10,
   "id": "ac5312eb",
   "metadata": {},
   "outputs": [
    {
     "data": {
      "text/html": [
       "<div>\n",
       "<style scoped>\n",
       "    .dataframe tbody tr th:only-of-type {\n",
       "        vertical-align: middle;\n",
       "    }\n",
       "\n",
       "    .dataframe tbody tr th {\n",
       "        vertical-align: top;\n",
       "    }\n",
       "\n",
       "    .dataframe thead th {\n",
       "        text-align: right;\n",
       "    }\n",
       "</style>\n",
       "<table border=\"1\" class=\"dataframe\">\n",
       "  <thead>\n",
       "    <tr style=\"text-align: right;\">\n",
       "      <th></th>\n",
       "      <th>order_id</th>\n",
       "      <th>order_date</th>\n",
       "      <th>ship_date</th>\n",
       "      <th>ship_mode</th>\n",
       "      <th>customer_name</th>\n",
       "      <th>segment</th>\n",
       "      <th>state</th>\n",
       "      <th>country</th>\n",
       "      <th>market</th>\n",
       "      <th>region</th>\n",
       "      <th>...</th>\n",
       "      <th>category</th>\n",
       "      <th>sub_category</th>\n",
       "      <th>product_name</th>\n",
       "      <th>sales</th>\n",
       "      <th>quantity</th>\n",
       "      <th>discount</th>\n",
       "      <th>profit</th>\n",
       "      <th>shipping_cost</th>\n",
       "      <th>order_priority</th>\n",
       "      <th>year</th>\n",
       "    </tr>\n",
       "  </thead>\n",
       "  <tbody>\n",
       "    <tr>\n",
       "      <th>0</th>\n",
       "      <td>AG-2011-2040</td>\n",
       "      <td>01-01-2011</td>\n",
       "      <td>06-01-2011</td>\n",
       "      <td>Standard Class</td>\n",
       "      <td>Toby Braunhardt</td>\n",
       "      <td>Consumer</td>\n",
       "      <td>Constantine</td>\n",
       "      <td>Algeria</td>\n",
       "      <td>Africa</td>\n",
       "      <td>Africa</td>\n",
       "      <td>...</td>\n",
       "      <td>Office Supplies</td>\n",
       "      <td>Storage</td>\n",
       "      <td>Tenex Lockers, Blue</td>\n",
       "      <td>408</td>\n",
       "      <td>2</td>\n",
       "      <td>0.0</td>\n",
       "      <td>106.140</td>\n",
       "      <td>35.46</td>\n",
       "      <td>Medium</td>\n",
       "      <td>2011</td>\n",
       "    </tr>\n",
       "    <tr>\n",
       "      <th>1</th>\n",
       "      <td>IN-2011-47883</td>\n",
       "      <td>01-01-2011</td>\n",
       "      <td>08-01-2011</td>\n",
       "      <td>Standard Class</td>\n",
       "      <td>Joseph Holt</td>\n",
       "      <td>Consumer</td>\n",
       "      <td>New South Wales</td>\n",
       "      <td>Australia</td>\n",
       "      <td>APAC</td>\n",
       "      <td>Oceania</td>\n",
       "      <td>...</td>\n",
       "      <td>Office Supplies</td>\n",
       "      <td>Supplies</td>\n",
       "      <td>Acme Trimmer, High Speed</td>\n",
       "      <td>120</td>\n",
       "      <td>3</td>\n",
       "      <td>0.1</td>\n",
       "      <td>36.036</td>\n",
       "      <td>9.72</td>\n",
       "      <td>Medium</td>\n",
       "      <td>2011</td>\n",
       "    </tr>\n",
       "    <tr>\n",
       "      <th>2</th>\n",
       "      <td>HU-2011-1220</td>\n",
       "      <td>01-01-2011</td>\n",
       "      <td>05-01-2011</td>\n",
       "      <td>Second Class</td>\n",
       "      <td>Annie Thurman</td>\n",
       "      <td>Consumer</td>\n",
       "      <td>Budapest</td>\n",
       "      <td>Hungary</td>\n",
       "      <td>EMEA</td>\n",
       "      <td>EMEA</td>\n",
       "      <td>...</td>\n",
       "      <td>Office Supplies</td>\n",
       "      <td>Storage</td>\n",
       "      <td>Tenex Box, Single Width</td>\n",
       "      <td>66</td>\n",
       "      <td>4</td>\n",
       "      <td>0.0</td>\n",
       "      <td>29.640</td>\n",
       "      <td>8.17</td>\n",
       "      <td>High</td>\n",
       "      <td>2011</td>\n",
       "    </tr>\n",
       "    <tr>\n",
       "      <th>3</th>\n",
       "      <td>IT-2011-3647632</td>\n",
       "      <td>01-01-2011</td>\n",
       "      <td>05-01-2011</td>\n",
       "      <td>Second Class</td>\n",
       "      <td>Eugene Moren</td>\n",
       "      <td>Home Office</td>\n",
       "      <td>Stockholm</td>\n",
       "      <td>Sweden</td>\n",
       "      <td>EU</td>\n",
       "      <td>North</td>\n",
       "      <td>...</td>\n",
       "      <td>Office Supplies</td>\n",
       "      <td>Paper</td>\n",
       "      <td>Enermax Note Cards, Premium</td>\n",
       "      <td>45</td>\n",
       "      <td>3</td>\n",
       "      <td>0.5</td>\n",
       "      <td>-26.055</td>\n",
       "      <td>4.82</td>\n",
       "      <td>High</td>\n",
       "      <td>2011</td>\n",
       "    </tr>\n",
       "    <tr>\n",
       "      <th>4</th>\n",
       "      <td>IN-2011-47883</td>\n",
       "      <td>01-01-2011</td>\n",
       "      <td>08-01-2011</td>\n",
       "      <td>Standard Class</td>\n",
       "      <td>Joseph Holt</td>\n",
       "      <td>Consumer</td>\n",
       "      <td>New South Wales</td>\n",
       "      <td>Australia</td>\n",
       "      <td>APAC</td>\n",
       "      <td>Oceania</td>\n",
       "      <td>...</td>\n",
       "      <td>Furniture</td>\n",
       "      <td>Furnishings</td>\n",
       "      <td>Eldon Light Bulb, Duo Pack</td>\n",
       "      <td>114</td>\n",
       "      <td>5</td>\n",
       "      <td>0.1</td>\n",
       "      <td>37.770</td>\n",
       "      <td>4.70</td>\n",
       "      <td>Medium</td>\n",
       "      <td>2011</td>\n",
       "    </tr>\n",
       "  </tbody>\n",
       "</table>\n",
       "<p>5 rows × 21 columns</p>\n",
       "</div>"
      ],
      "text/plain": [
       "          order_id  order_date   ship_date       ship_mode    customer_name  \\\n",
       "0     AG-2011-2040  01-01-2011  06-01-2011  Standard Class  Toby Braunhardt   \n",
       "1    IN-2011-47883  01-01-2011  08-01-2011  Standard Class      Joseph Holt   \n",
       "2     HU-2011-1220  01-01-2011  05-01-2011    Second Class    Annie Thurman   \n",
       "3  IT-2011-3647632  01-01-2011  05-01-2011    Second Class     Eugene Moren   \n",
       "4    IN-2011-47883  01-01-2011  08-01-2011  Standard Class      Joseph Holt   \n",
       "\n",
       "       segment            state    country  market   region  ...  \\\n",
       "0     Consumer      Constantine    Algeria  Africa   Africa  ...   \n",
       "1     Consumer  New South Wales  Australia    APAC  Oceania  ...   \n",
       "2     Consumer         Budapest    Hungary    EMEA     EMEA  ...   \n",
       "3  Home Office        Stockholm     Sweden      EU    North  ...   \n",
       "4     Consumer  New South Wales  Australia    APAC  Oceania  ...   \n",
       "\n",
       "          category sub_category                 product_name sales quantity  \\\n",
       "0  Office Supplies      Storage          Tenex Lockers, Blue   408        2   \n",
       "1  Office Supplies     Supplies     Acme Trimmer, High Speed   120        3   \n",
       "2  Office Supplies      Storage      Tenex Box, Single Width    66        4   \n",
       "3  Office Supplies        Paper  Enermax Note Cards, Premium    45        3   \n",
       "4        Furniture  Furnishings   Eldon Light Bulb, Duo Pack   114        5   \n",
       "\n",
       "   discount   profit  shipping_cost  order_priority  year  \n",
       "0       0.0  106.140          35.46          Medium  2011  \n",
       "1       0.1   36.036           9.72          Medium  2011  \n",
       "2       0.0   29.640           8.17            High  2011  \n",
       "3       0.5  -26.055           4.82            High  2011  \n",
       "4       0.1   37.770           4.70          Medium  2011  \n",
       "\n",
       "[5 rows x 21 columns]"
      ]
     },
     "execution_count": 10,
     "metadata": {},
     "output_type": "execute_result"
    }
   ],
   "source": [
    "df = pd.read_csv(\"superstore_sales.csv\")\n",
    "df.head()"
   ]
  },
  {
   "cell_type": "code",
   "execution_count": 4,
   "id": "5e16f66e",
   "metadata": {},
   "outputs": [
    {
     "name": "stdout",
     "output_type": "stream",
     "text": [
      "<class 'pandas.core.frame.DataFrame'>\n",
      "RangeIndex: 51290 entries, 0 to 51289\n",
      "Data columns (total 21 columns):\n",
      " #   Column          Non-Null Count  Dtype  \n",
      "---  ------          --------------  -----  \n",
      " 0   order_id        51290 non-null  object \n",
      " 1   order_date      51290 non-null  object \n",
      " 2   ship_date       51290 non-null  object \n",
      " 3   ship_mode       51290 non-null  object \n",
      " 4   customer_name   51290 non-null  object \n",
      " 5   segment         51290 non-null  object \n",
      " 6   state           51290 non-null  object \n",
      " 7   country         51290 non-null  object \n",
      " 8   market          51290 non-null  object \n",
      " 9   region          51290 non-null  object \n",
      " 10  product_id      51290 non-null  object \n",
      " 11  category        51290 non-null  object \n",
      " 12  sub_category    51290 non-null  object \n",
      " 13  product_name    51290 non-null  object \n",
      " 14  sales           51290 non-null  object \n",
      " 15  quantity        51290 non-null  int64  \n",
      " 16  discount        51290 non-null  float64\n",
      " 17  profit          51290 non-null  float64\n",
      " 18  shipping_cost   51290 non-null  float64\n",
      " 19  order_priority  51290 non-null  object \n",
      " 20  year            51290 non-null  int64  \n",
      "dtypes: float64(3), int64(2), object(16)\n",
      "memory usage: 8.2+ MB\n"
     ]
    }
   ],
   "source": [
    "df.info()"
   ]
  },
  {
   "cell_type": "code",
   "execution_count": 6,
   "id": "310d3c61",
   "metadata": {},
   "outputs": [
    {
     "data": {
      "text/plain": [
       "order_id          0\n",
       "order_date        0\n",
       "ship_date         0\n",
       "ship_mode         0\n",
       "customer_name     0\n",
       "segment           0\n",
       "state             0\n",
       "country           0\n",
       "market            0\n",
       "region            0\n",
       "product_id        0\n",
       "category          0\n",
       "sub_category      0\n",
       "product_name      0\n",
       "sales             0\n",
       "quantity          0\n",
       "discount          0\n",
       "profit            0\n",
       "shipping_cost     0\n",
       "order_priority    0\n",
       "year              0\n",
       "dtype: int64"
      ]
     },
     "execution_count": 6,
     "metadata": {},
     "output_type": "execute_result"
    }
   ],
   "source": [
    "df.isnull().sum()"
   ]
  },
  {
   "cell_type": "code",
   "execution_count": 7,
   "id": "c35341eb",
   "metadata": {},
   "outputs": [],
   "source": [
    "# There are no missing values"
   ]
  },
  {
   "cell_type": "code",
   "execution_count": 11,
   "id": "fe4be9f6",
   "metadata": {},
   "outputs": [],
   "source": [
    "# Converting to datetime\n",
    "df['order_date'] = pd.to_datetime(df['order_date'], dayfirst=True, errors='coerce')\n",
    "df['ship_date'] = pd.to_datetime(df['ship_date'], dayfirst=True, errors='coerce')"
   ]
  },
  {
   "cell_type": "code",
   "execution_count": 15,
   "id": "ca7bf86c",
   "metadata": {},
   "outputs": [],
   "source": [
    "# Getting the month and year from order_date\n",
    "df['month-year'] = df['order_date'].apply(lambda x:x.strftime('%m-%Y'))"
   ]
  },
  {
   "cell_type": "code",
   "execution_count": 16,
   "id": "6b77fd2d",
   "metadata": {},
   "outputs": [],
   "source": [
    "# Getting the month and year from order_date\n",
    "df['month-year'] = df['order_date'].apply(lambda x:x.strftime('%m-%Y'))"
   ]
  },
  {
   "cell_type": "code",
   "execution_count": 17,
   "id": "2fe5324c",
   "metadata": {},
   "outputs": [],
   "source": [
    "# Replacing commas with no space in sales column\n",
    "df['sales'] = df['sales'].apply(lambda a:a.replace(\",\",\"\"))\n",
    "\n",
    "# Converting sales column to int\n",
    "df['sales'] = df['sales'].astype('int64')"
   ]
  },
  {
   "cell_type": "code",
   "execution_count": 22,
   "id": "17d4b105",
   "metadata": {},
   "outputs": [],
   "source": [
    "df.to_csv(\"cleaned_sales_data.csv\", index=False)\n"
   ]
  },
  {
   "cell_type": "code",
   "execution_count": 23,
   "id": "51394b05",
   "metadata": {},
   "outputs": [
    {
     "data": {
      "text/plain": [
       "category\n",
       "Office Supplies    31273\n",
       "Technology         10141\n",
       "Furniture           9876\n",
       "Name: count, dtype: int64"
      ]
     },
     "execution_count": 23,
     "metadata": {},
     "output_type": "execute_result"
    }
   ],
   "source": [
    "df[\"category\"].value_counts()"
   ]
  },
  {
   "cell_type": "code",
   "execution_count": 24,
   "id": "d3e70255",
   "metadata": {},
   "outputs": [
    {
     "data": {
      "text/plain": [
       "region\n",
       "Central           11117\n",
       "South              6645\n",
       "EMEA               5029\n",
       "North              4785\n",
       "Africa             4587\n",
       "Oceania            3487\n",
       "West               3203\n",
       "Southeast Asia     3129\n",
       "East               2848\n",
       "North Asia         2338\n",
       "Central Asia       2048\n",
       "Caribbean          1690\n",
       "Canada              384\n",
       "Name: count, dtype: int64"
      ]
     },
     "execution_count": 24,
     "metadata": {},
     "output_type": "execute_result"
    }
   ],
   "source": [
    "df['region'].value_counts()"
   ]
  },
  {
   "cell_type": "code",
   "execution_count": null,
   "id": "42ce583d",
   "metadata": {},
   "outputs": [],
   "source": []
  }
 ],
 "metadata": {
  "kernelspec": {
   "display_name": "Python 3 (ipykernel)",
   "language": "python",
   "name": "python3"
  },
  "language_info": {
   "codemirror_mode": {
    "name": "ipython",
    "version": 3
   },
   "file_extension": ".py",
   "mimetype": "text/x-python",
   "name": "python",
   "nbconvert_exporter": "python",
   "pygments_lexer": "ipython3",
   "version": "3.10.9"
  }
 },
 "nbformat": 4,
 "nbformat_minor": 5
}
